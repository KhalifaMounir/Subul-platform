{
 "cells": [
  {
   "cell_type": "code",
   "execution_count": 1,
   "id": "0da2c5db",
   "metadata": {},
   "outputs": [],
   "source": [
    "import requests\n",
    "from bs4 import BeautifulSoup"
   ]
  },
  {
   "cell_type": "code",
   "execution_count": 2,
   "id": "e34198ec",
   "metadata": {},
   "outputs": [],
   "source": [
    "base_url = \"https://www.expat.com\"\n",
    "url = \"https://www.expat.com/en/jobs/middle-east/oman/\""
   ]
  },
  {
   "cell_type": "code",
   "execution_count": 3,
   "id": "affc576e",
   "metadata": {},
   "outputs": [],
   "source": [
    "headers = {\n",
    "    \"User-Agent\": \"Mozilla/5.0\"\n",
    "}\n",
    "response = requests.get(url, headers=headers)\n",
    "soup = BeautifulSoup(response.content, \"html.parser\")"
   ]
  },
  {
   "cell_type": "code",
   "execution_count": 5,
   "id": "1ef0a662",
   "metadata": {},
   "outputs": [],
   "source": [
    "jobs = []\n",
    "\n",
    "for box in soup.find_all(\"div\", class_=\"item-box\"):\n",
    "    job = {}\n",
    "    \n",
    "    title_tag = box.find(\"a\", class_=\"item-box__title\")\n",
    "    job[\"Title\"] = title_tag.text.strip() if title_tag else \"N/A\"\n",
    "    \n",
    "    company_div = box.find(\"div\", class_=\"item-box__user\")\n",
    "    job[\"Company\"] = company_div.text.strip() if company_div else \"N/A\"\n",
    "\n",
    "    misc = box.find(\"div\", class_=\"item-box__misc\")\n",
    "    if misc:\n",
    "        # Extraction de tous les textes visibles, même s'ils ne sont pas dans des <div>\n",
    "        misc_texts = [x.strip() for x in misc.stripped_strings]\n",
    "        \n",
    "        job[\"Location\"] = misc_texts[0] if len(misc_texts) > 0 else \"N/A\"\n",
    "        \n",
    "        # Recherche plus sûre de la date\n",
    "        job[\"Date Posted\"] = \"N/A\"\n",
    "        for text in misc_texts:\n",
    "            if \"Added on\" in text:\n",
    "                job[\"Date Posted\"] = text.replace(\"Added on\", \"\").strip()\n",
    "                break\n",
    "    else:\n",
    "        job[\"Location\"] = \"N/A\"\n",
    "        job[\"Date Posted\"] = \"N/A\"\n",
    "\n",
    "    # Gestion du lien\n",
    "    if title_tag and title_tag.has_attr(\"href\"):\n",
    "        relative_url = title_tag[\"href\"]\n",
    "        job[\"Link\"] = base_url + relative_url if relative_url.startswith(\"/\") else relative_url\n",
    "    else:\n",
    "        job[\"Link\"] = \"N/A\"\n",
    "\n",
    "    # Accès à la page détaillée\n",
    "    if job[\"Link\"] != \"N/A\":\n",
    "        detail_resp = requests.get(job[\"Link\"], headers=headers)\n",
    "        detail_soup = BeautifulSoup(detail_resp.content, \"html.parser\")\n",
    "        description_div = detail_soup.find(\"div\", class_=\"block-description\")\n",
    "        job[\"Description\"] = description_div.get_text(separator=\" \").strip() if description_div else \"N/A\"\n",
    "    else:\n",
    "        job[\"Description\"] = \"N/A\"\n",
    "\n",
    "    jobs.append(job)"
   ]
  },
  {
   "cell_type": "code",
   "execution_count": 6,
   "id": "0794a395",
   "metadata": {},
   "outputs": [
    {
     "name": "stdout",
     "output_type": "stream",
     "text": [
      "{'Title': 'House maid needed in muscat Oman', 'Company': 'Asad', 'Link': 'https://www.expat.com/en/jobs/middle-east/oman/muscat/88-housemaid/700250-house-maid-needed-in-muscat-oman.html', 'Location': 'Muscat', 'Date Posted': '20/05/2025', 'Description': \"Description \\n \\n \\n \\n Hi We are looking for a maid for our family. We live in muscat, Oman. The maid should be Indonesian. Practicing Muslim and have experience in cooking, cleaning the who house duty's (driving a car would be preferred but not essential). Must be able to speak either English or Arabic. Also willing and eager to learn. We will offer accommodation, return flight tickets once a year and salary of 150 OMR per month. Please get in touch if interested. Thanks Asad\"}\n",
      "{'Title': 'House Maid for family - Must be Indonesian', 'Company': 'Asad', 'Link': 'https://www.expat.com/en/jobs/middle-east/oman/88-housemaid/698667-house-maid-for-family---must-be-indonesian.html', 'Location': 'Muscat', 'Date Posted': '15/03/2025', 'Description': 'Description \\n \\n \\n \\n Hi We are looking for a maid for our family. We live in muscat, Oman. The maid should be Indonesian. Practicing Muslim and have experience in cooking, cleaning (driving a car would be preferred but not essential). Must be able to speak either English or Arabic. Also willing and eager to learn. We will offer accommodation, return flight tickets once a year and salary of 150 OMR per month. Please get in touch if interested. Thanks Asad'}\n",
      "{'Title': 'Housemaid To Work In OMAN - Muscat - Oman', 'Company': 'Jbari  aljabri', 'Link': 'https://www.expat.com/en/jobs/middle-east/oman/muscat/88-housemaid/695725-housemaid-to-work-in-oman---muscat---oman.html', 'Location': 'Muscat', 'Date Posted': '05/12/2024', 'Description': \"Description \\n \\n \\n \\n We are a warm and welcoming family of four looking for a professional and dedicated housemaid to join our household in Oman. Job Description The housemaid will be responsible for maintaining cleanliness and organization in the home, helping on cooking, baby sitting sometime, and assisting with household chores as needed. Job Benefits Accommodation: Private room with attached bathroom provided. Meals: All meals included. Other Benefits: Supportive and respectful working environment. Requirements Prior experience in housekeeping or similar roles is preferred. Must maintain professionalism, punctuality, and respect towards the family members. Good communication skills. Willingness to learn and adapt to the household's preferences. How to Apply If you are interested and meet the requirements, please send your application with details about your experience and references (if available) We look forward to welcoming you into our home!\"}\n",
      "{'Title': 'CEO Executive Assistant', 'Company': 'N/A', 'Link': 'https://www.expat.com/en/jobs/middle-east/oman/155-personal-asistant/700215-ceo-executive-assistant.html', 'Location': 'Muscat', 'Date Posted': '19/05/2025', 'Description': 'About \\n \\n \\n \\n Key responsibilities \\uf0b7 To act as a first point of contact dealing with correspondence and phone calls \\uf0b7 To proactively manage and coordinate the diary of the Chief Executive by prioritising and arranging internal and external meetings, ensuring appropriate briefing papers are prepared and provided. \\uf0b7 Plan and organise travel and accommodation when required \\uf0b7 Maintain effective filling and data storage including emails and retrieval systems. \\uf0b7 To provide full executive assistant support by dealing with all correspondence and calls, drafting routine letters to a high standard, minute meetings, taking messages and other administrative tasks as required to support the Chief Executive. \\uf0b7 To provide support for Board of Director meetings by ensuring meetings are properly arranged and serviced. This will include drafting agendas, collating papers and reports, taking minutes and following up action points. \\uf0b7 Supporting the Chief Executive to keep the Board of Director informed about the work of the organisation and their appropriate training and induction. \\uf0b7 To service meetings of the Senior Management Team by drafting and collating papers and reports, preparing manageable agendas, taking minutes and following up on actions points.'}\n",
      "{'Title': 'IT Manager', 'Company': 'N/A', 'Link': 'https://www.expat.com/en/jobs/middle-east/oman/198-it-manager/699802-it-manager.html', 'Location': 'Muscat', 'Date Posted': '04/05/2025', 'Description': 'About \\n \\n \\n \\n Results-driven IT leader with over 18 years of experience in Healthcare IT, specializing in HIS/EMR implementation, project management, and process optimization. A proven track record of leading global multi-disciplinary teams and delivering successful healthcare IT solutions across 20  hospitals. Expertise in designing workflows, integrating systems with insurance, lab/radiology, billing, and inventory, and providing comprehensive training and post-go-live support. Passionate about leveraging emerging technologies to streamline workflows and enhance patient care, I am now seeking to bring my expertise to the Kurdistan healthcare sector. Core Skills'}\n",
      "{'Title': 'Beauty therapist and laser technician', 'Company': 'N/A', 'Link': 'https://www.expat.com/en/jobs/middle-east/oman/muscat/80-beautician/699588-beauty-therapist-and-laser-technician.html', 'Location': 'Muscat', 'Date Posted': '26/04/2025', 'Description': 'About \\n \\n \\n \\n I am Iranian. Currently, I am working in Oman. I have over 10 years of work experience in the field of skincare and laser treatments. I have been working in a clinic for over three years, specializing in laser treatments and facials. I have all the necessary certifications. I am looking to migrate through a job offer'}\n",
      "{'Title': 'Pastry chef, baker', 'Company': '0666818484. France Rachid', 'Link': 'https://www.expat.com/en/jobs/middle-east/oman/85-baker/698874-pastry-chef-baker.html', 'Location': 'Muscat', 'Date Posted': '24/03/2025', 'Description': 'About \\n \\n \\n \\n I am looking for a position in a bakery. I have a diploma in pastry making and in making artisanal pastries. I have 15 years of experience. I would like to settle in Oman.'}\n",
      "{'Title': 'Language Professor', 'Company': 'Hafedh AHMADI', 'Link': 'https://www.expat.com/en/jobs/middle-east/oman/muscat/115-language-teacher/698859-language-professor.html', 'Location': 'Muscat', 'Date Posted': '23/03/2025', 'Description': 'About \\n \\n \\n \\n I am looking for a job as a language teacher: French and Arabic'}\n",
      "{'Title': 'Revit BIM specialist', 'Company': 'Roberto', 'Link': 'https://www.expat.com/en/jobs/middle-east/oman/muscat/134-architect/696416-revit-bim-specialist.html', 'Location': 'Muscat', 'Date Posted': '20/12/2024', 'Description': 'About \\n \\n \\n \\n Architect with decades of experience in the construction sector, I carry out drawings and projects for firms and/or companies in Oman, using Revit Bim Specialist software, Mep mechanical systems, AutoCAD 2D, Blumatica and Primus calculations. Returning IFC exchange file. Compensation per project to be agreed.'}\n",
      "{'Title': 'IT TECHNICIAN', 'Company': 'Banatake Killian Cho', 'Link': 'https://www.expat.com/en/jobs/middle-east/oman/175-other-it-telecommunications/691975-it-technician.html', 'Location': 'Seeb', 'Date Posted': '01/10/2024', 'Description': 'About \\n \\n \\n \\n A solution-oriented, highly analytical, and resourceful candidate with over eight years of technical troubleshooting, end-user service, and network development experience. I have continuously demonstrated skills in the development and implementation of technological solutions with a special emphasis on delivering cost-cutting and productivity improvements. I am a professional in network administration, software configuration, and testing as well as repair of various hardware and software applications. I have a proven ability to provide creative and effective issue resolution through the application of highly developed problem-solving skills. I embody the right qualities of being a team player with a reputation for providing excellent user service and the tenacity to work with demanding clientele.'}\n",
      "{'Title': 'Resident Engineer', 'Company': 'Muhammad Kabir Qasim', 'Link': 'https://www.expat.com/en/jobs/middle-east/oman/salalah/134-architect/689635-resident-engineer.html', 'Location': 'Salalah', 'Date Posted': '23/08/2024', 'Description': 'About \\n \\n \\n \\n I am a civil engineer in addition to an architectural associate engineer. Looking for a Job as a Resident Engineer anywhere in Africa. I worked in GCC for about 27 years and now want to move to Africa.'}\n",
      "{'Title': 'Truck driver', 'Company': 'Ahsan Yousaf', 'Link': 'https://www.expat.com/en/jobs/middle-east/oman/137-truck-driver/688875-truck-driver.html', 'Location': 'Muscat', 'Date Posted': '15/08/2024', 'Description': 'About \\n \\n \\n \\n With over 15 years of experience as a heavy truck driver, I have developed a comprehensive understanding of logistics, transportation regulations, and vehicle maintenance. My career began at Arabian river united LLC where I gained foundational skills in safe driving practices and efficient route planning. including Demonstrating versatility and adaptability.Throughout my career, I have consistently received for my punctuality, safety record, and professionalism.'}\n",
      "{'Title': 'QA QC Electrical and Instrument Engineer', 'Company': 'N/A', 'Link': 'https://www.expat.com/en/jobs/middle-east/oman/149-energy/685665-qa-qc-electrical-and-instrument-engineer.html', 'Location': 'Seeb', 'Date Posted': '01/07/2024', 'Description': 'About \\n \\n \\n \\n I am writing to express my interest in the Lead Electrical &I Engineer/ QA QC Engineer -Project Engineer / Supervision at the good organization. With my 17 years of experience and skills in the electrical and instrumentation engineering field, I am confident that I can make valuable contributions to your team. As a seasoned electrical and instrumentation engineering field, I have a strong background in quality control and assurance/Project Engineer. I have a keen eye for detail and a deep understanding of industry standards and regulations. I am adept at performing inspections, audits, and tests to ensure compliance with project specifications and safety requirements. In my previous roles, I have successfully managed Lead/Quality Assurance -Quality control engineering/Supervision for large-scale projects, including Renewable Energy, Power plants, oil and gas refineries, and Wastewater Treatment plants. I have also collaborated with cross-functional teams to identify and resolve quality issues, resulting in improved efficiency and cost savings. I am highly skilled in using a variety of testing equipment and software. I am also experienced in reading and interpreting technical drawings, schematics, and blueprints. I am excited about the opportunity to bring my expertise to your company and contribute to your success. Thank you for considering my application. I look forward to the opportunity. Sincerely, Wasim Shahzad  968-96399086'}\n",
      "{'Title': 'TRANSPORT MANAGER', 'Company': 'Muhammad Abdullah Riaz', 'Link': 'https://www.expat.com/en/jobs/middle-east/oman/193-tourism/685681-transport-manager.html', 'Location': 'Seeb', 'Date Posted': '01/07/2024', 'Description': 'About \\n \\n \\n \\n Related to delivery jobs ,private home driver ,agriculture .'}\n",
      "{'Title': 'Truck Driver', 'Company': 'Adnan bakht', 'Link': 'https://www.expat.com/en/jobs/middle-east/oman/sohar/137-truck-driver/685549-truck-driver.html', 'Location': 'Sohar', 'Date Posted': '29/06/2024', 'Description': 'About \\n \\n \\n \\n i have 7 years experience as a HEAVY TRUCK DRIVER, (flatbed ,lowbed and reefer, refrigerator) in gulf countries i have oman HTV (C E and B) driving license and also i have Cross border experience oman to dubai and saudi arabia.'}\n"
     ]
    }
   ],
   "source": [
    "for job in jobs:\n",
    "    print(job)"
   ]
  },
  {
   "cell_type": "code",
   "execution_count": null,
   "id": "d7411704",
   "metadata": {},
   "outputs": [],
   "source": []
  }
 ],
 "metadata": {
  "kernelspec": {
   "display_name": "gpu_env",
   "language": "python",
   "name": "python3"
  },
  "language_info": {
   "codemirror_mode": {
    "name": "ipython",
    "version": 3
   },
   "file_extension": ".py",
   "mimetype": "text/x-python",
   "name": "python",
   "nbconvert_exporter": "python",
   "pygments_lexer": "ipython3",
   "version": "3.8.20"
  }
 },
 "nbformat": 4,
 "nbformat_minor": 5
}
