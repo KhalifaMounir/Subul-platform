{
 "cells": [
  {
   "cell_type": "code",
   "execution_count": 1,
   "id": "7be29b8f",
   "metadata": {},
   "outputs": [],
   "source": [
    "import requests\n",
    "from bs4 import BeautifulSoup\n",
    "import csv"
   ]
  },
  {
   "cell_type": "code",
   "execution_count": 2,
   "id": "9049a9f2",
   "metadata": {},
   "outputs": [],
   "source": [
    "url = 'https://www.careerjet.com.om/jobs?l=Oman&lid=119810&radius=15'"
   ]
  },
  {
   "cell_type": "code",
   "execution_count": 3,
   "id": "e3affe0c",
   "metadata": {},
   "outputs": [],
   "source": [
    "def get_jobs_links(url):\n",
    "    response = requests.get(url)\n",
    "    \n",
    "    if response.status_code != 200:\n",
    "        print(f\"Erreur HTTP {response.status_code}\")\n",
    "        return []\n",
    "\n",
    "    soup = BeautifulSoup(response.text, \"html.parser\")\n",
    "    job_articles = soup.find_all(\"article\", class_=\"job clicky\")\n",
    "    links = []\n",
    "\n",
    "    for job in job_articles:\n",
    "        job_url = job.get(\"data-url\")\n",
    "        if job_url:\n",
    "            full_url = f\"https://www.careerjet.com.om{job_url}\"\n",
    "            links.append(full_url)\n",
    "\n",
    "    return links\n"
   ]
  },
  {
   "cell_type": "code",
   "execution_count": 4,
   "id": "6a15c115",
   "metadata": {},
   "outputs": [
    {
     "name": "stdout",
     "output_type": "stream",
     "text": [
      "https://www.careerjet.com.om/jobad/omfae28e8b9d995ca987118d01f5bdf894\n",
      "https://www.careerjet.com.om/jobad/om31d63e5432320ef7d2e269b677181135\n",
      "https://www.careerjet.com.om/jobad/omb61ba6eefc0d4db107ce778aaa3d3081\n",
      "https://www.careerjet.com.om/jobad/om53267c74cd1379aeb78cab497d7083ae\n",
      "https://www.careerjet.com.om/jobad/omdba1863cf1ca658b0465db6c24519c16\n",
      "https://www.careerjet.com.om/jobad/om97051432c1c4c88dab3049b5bce2421a\n",
      "https://www.careerjet.com.om/jobad/om996733a691638606792b532f37e3dfe7\n",
      "https://www.careerjet.com.om/jobad/omf39d44cc042f8d3c5bd4794129cd31da\n",
      "https://www.careerjet.com.om/jobad/om4af55f97c01d9ac149ae9c41fe93e28e\n",
      "https://www.careerjet.com.om/jobad/om9b00c58f73e40416cddbf11089b41ded\n",
      "https://www.careerjet.com.om/jobad/om8f5879dcf94bbb930f5261bbec7e6a2c\n",
      "https://www.careerjet.com.om/jobad/omfe66e16d428e30a40e6731a018fbd62b\n",
      "https://www.careerjet.com.om/jobad/omd8c0378f6f023d5f6c58e82fee7b7364\n",
      "https://www.careerjet.com.om/jobad/om54580e76b02b84f6f309dfc1fd6a93f9\n",
      "https://www.careerjet.com.om/jobad/ome6e7e436dc86e9bd670cac4d15b68eb1\n",
      "https://www.careerjet.com.om/jobad/omb3bd4928ca3c3388e22717013284da99\n",
      "https://www.careerjet.com.om/jobad/om0872c07e01edf62fc76d4b7101598280\n",
      "https://www.careerjet.com.om/jobad/om6aa84c1f6b13e40abbc48ffa5fdc2367\n",
      "https://www.careerjet.com.om/jobad/omdb1574145d7edff055b59a732d866e90\n",
      "https://www.careerjet.com.om/jobad/omfa308602175c61524b6518cbae7ff31a\n"
     ]
    }
   ],
   "source": [
    "job_links = get_jobs_links(url)\n",
    "\n",
    "# Affichage des liens extraits\n",
    "for link in job_links:\n",
    "    print(link)"
   ]
  },
  {
   "cell_type": "code",
   "execution_count": 5,
   "id": "c28340ad",
   "metadata": {},
   "outputs": [],
   "source": [
    "def get_job_details(link):\n",
    "    response = requests.get(link)\n",
    "    response.raise_for_status()\n",
    "    soup = BeautifulSoup(response.text, \"html.parser\")\n",
    "    \n",
    "    job_details = {}\n",
    "    \n",
    "    job_details[\"Title\"] = soup.find(\"h1\").text.strip() if soup.find(\"h1\") else \"N/A\"\n",
    "    \n",
    "    job_details[\"Company\"] = soup.find(\"p\", class_=\"company\").text.strip() if soup.find(\"p\", class_=\"company\") else \"N/A\"\n",
    "    \n",
    "    location_li = None\n",
    "    details_ul = soup.find(\"ul\", class_=\"details\")\n",
    "    if details_ul:\n",
    "        for li in details_ul.find_all(\"li\"):\n",
    "            icon = li.find(\"use\")\n",
    "            if icon and \"#icon-location\" in icon.get(\"xlink:href\", \"\"):\n",
    "                location_li = li\n",
    "                break\n",
    "    job_details[\"Location\"] = location_li.text.strip() if location_li else \"N/A\"\n",
    "    \n",
    "    # Description\n",
    "    job_details[\"Description\"] = soup.find(\"section\", class_=\"content\").text.strip() if soup.find(\"section\", class_=\"content\") else \"N/A\"\n",
    "    \n",
    "    # Date de publication\n",
    "    date_badge = soup.find(\"span\", class_=\"badge badge-r badge-s\")\n",
    "    job_details[\"Date Posted\"] = date_badge.text.strip() if date_badge else \"N/A\"    \n",
    "    \n",
    "    # Lien source\n",
    "    job_details[\"Link\"] = link\n",
    "    \n",
    "    return job_details\n"
   ]
  },
  {
   "cell_type": "code",
   "execution_count": 6,
   "id": "bdca5b55",
   "metadata": {},
   "outputs": [],
   "source": [
    "def scrape_optioncarriere(base_url):\n",
    "    all_jobs = []\n",
    "    current_page = 1\n",
    "    \n",
    "    while current_page <= 2:\n",
    "        job_links = get_jobs_links(base_url)\n",
    "        \n",
    "        if not job_links:\n",
    "            print(\"No more job offers found. Scraping complete.\")\n",
    "            break\n",
    "        \n",
    "        for link in job_links:\n",
    "            try:\n",
    "                job_details = get_job_details(link)\n",
    "                all_jobs.append(job_details)\n",
    "            except Exception as e:\n",
    "                print(f\"Failed to scrape job details from {link}: {e}\")\n",
    "        \n",
    "        soup = BeautifulSoup(requests.get(base_url).text, \"html.parser\")\n",
    "        next_button = soup.find(\"button\", {\"class\": \"ves-control ves-add btn btn-r btn-primary-inverted next\"})\n",
    "        \n",
    "        if next_button and \"data-value\" in next_button.attrs:\n",
    "            next_page_value = next_button[\"data-value\"]\n",
    "            base_url = f\"https://www.careerjet.com.om/jobs?s=&l=Oman&radius=15&p={next_page_value}\"\n",
    "            current_page += 1\n",
    "        else:\n",
    "            print(\"No more pages found. Ending scraping.\")\n",
    "            break\n",
    "    \n",
    "    return all_jobs\n"
   ]
  },
  {
   "cell_type": "code",
   "execution_count": 7,
   "id": "f1ddcb41",
   "metadata": {},
   "outputs": [
    {
     "name": "stdout",
     "output_type": "stream",
     "text": [
      "{'Title': 'Digital Sales Executive', 'Company': 'Top Notch Consultancy', 'Location': 'Muscat', 'Date Posted': '5 days ago', 'Description': \"Job Overview:We are seeking a highly motivated Digital Sales Executive to join our client's team in Muscat, Oman. In this role, you will be responsible for driving digital advertising sales, building strong client relationships, and delivering innovative marketing solutions. You will work with brands, agencies, and partners to promote our digital advertising products and achieve revenue targets.Key Responsibilities:  Identify and develop new business opportunities in the digital advertising space. Manage and grow a portfolio of clients, including brands, agencies, and advertisers. Promote and sell digital programmatic advertising and performance marketing. Understand client needs and propose tailored advertising strategies to achieve their marketing goals. Negotiate pricing, and campaign terms to close deals. Collaborate with internal teams (ad operations, creative, and analytics) to ensure campaign success. Stay up to date with industry trends, competitor activities, and emerging digital marketing technologies. Track and report sales performance, providing insights and recommendations for growth.  Qualifications & Skills:  Experience: 2-5 years in digital advertising sales, media sales, or related fields. Industry Knowledge: Strong understanding of digital advertising solutions (programmatic, performance marketing, social media ads, etc.). Sales Skills: Proven track record of meeting or exceeding sales targets. Client Management: Ability to build and maintain strong relationships with direct clients and agencies. Communication: Excellent presentation, negotiation, and interpersonal skills. \\n\\n\\n      \\n        Top Notch Consultancy\", 'Link': 'https://www.careerjet.com.om/jobad/omfae28e8b9d995ca987118d01f5bdf894'}\n"
     ]
    }
   ],
   "source": [
    "jobs = scrape_optioncarriere(url)\n",
    "\n",
    "for job in jobs[:1]: \n",
    "    formatted_job = {\n",
    "        \"Title\": job[\"Title\"],\n",
    "        \"Company\": job[\"Company\"],\n",
    "        \"Location\": job[\"Location\"],\n",
    "        \"Date Posted\": job[\"Date Posted\"],\n",
    "        \"Description\": job[\"Description\"],\n",
    "        \"Link\": job[\"Link\"],\n",
    "    }\n",
    "    print(formatted_job)\n"
   ]
  },
  {
   "cell_type": "code",
   "execution_count": 8,
   "id": "ddd57c6f",
   "metadata": {},
   "outputs": [],
   "source": [
    "csv_file = \"jobs_careerjet.csv\"\n",
    "with open(csv_file, mode=\"w\", newline=\"\", encoding=\"utf-8\") as file:\n",
    "    writer = csv.DictWriter(file, fieldnames=[\"Title\", \"Company\", \"Location\", \"Date Posted\", \"Description\", \"Link\"])\n",
    "    writer.writeheader()\n",
    "    for job in jobs:\n",
    "        writer.writerow(job)"
   ]
  }
 ],
 "metadata": {
  "kernelspec": {
   "display_name": "gpu_env",
   "language": "python",
   "name": "python3"
  },
  "language_info": {
   "codemirror_mode": {
    "name": "ipython",
    "version": 3
   },
   "file_extension": ".py",
   "mimetype": "text/x-python",
   "name": "python",
   "nbconvert_exporter": "python",
   "pygments_lexer": "ipython3",
   "version": "3.8.20"
  }
 },
 "nbformat": 4,
 "nbformat_minor": 5
}
