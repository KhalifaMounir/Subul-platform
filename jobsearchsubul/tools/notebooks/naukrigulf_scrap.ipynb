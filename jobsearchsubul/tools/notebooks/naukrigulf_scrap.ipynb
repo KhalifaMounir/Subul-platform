{
 "cells": [
  {
   "cell_type": "code",
   "execution_count": 65,
   "id": "393c6b46",
   "metadata": {},
   "outputs": [],
   "source": [
    "from selenium import webdriver\n",
    "from selenium.webdriver.chrome.options import Options\n",
    "from selenium.webdriver.common.by import By\n",
    "from selenium.webdriver.support.ui import WebDriverWait\n",
    "from selenium.webdriver.support import expected_conditions as EC\n",
    "from bs4 import BeautifulSoup\n",
    "from time import sleep\n",
    "import csv"
   ]
  },
  {
   "cell_type": "code",
   "execution_count": 66,
   "id": "b3b37c8e",
   "metadata": {},
   "outputs": [
    {
     "data": {
      "text/plain": [
       "{'identifier': '2'}"
      ]
     },
     "execution_count": 66,
     "metadata": {},
     "output_type": "execute_result"
    }
   ],
   "source": [
    "options = Options()\n",
    "options.add_experimental_option(\"excludeSwitches\", [\"enable-automation\"])\n",
    "options.add_experimental_option(\"useAutomationExtension\", False)\n",
    "driver = webdriver.Chrome(options=options)\n",
    "driver.execute_cdp_cmd(\"Page.addScriptToEvaluateOnNewDocument\", {\n",
    "    \"source\": \"Object.defineProperty(navigator, 'webdriver', { get: () => undefined })\"\n",
    "})"
   ]
  },
  {
   "cell_type": "code",
   "execution_count": 67,
   "id": "88305ce9",
   "metadata": {},
   "outputs": [],
   "source": [
    "def get_job_description(link):\n",
    "    try:\n",
    "        driver.get(link)\n",
    "        WebDriverWait(driver, 15).until(\n",
    "            EC.presence_of_element_located((By.CSS_SELECTOR, \"article.job-description\"))\n",
    "        )\n",
    "        sleep(2)\n",
    "\n",
    "        soup = BeautifulSoup(driver.page_source, 'html.parser')\n",
    "        article = soup.find(\"article\", class_=\"job-description\")\n",
    "        if not article:\n",
    "            return \"N/A\"\n",
    "\n",
    "        paragraphs = [p.get_text(strip=True) for p in article.find_all(\"p\") if p.get_text(strip=True)]\n",
    "        lists = [\n",
    "            \"- \" + li.get_text(strip=True)\n",
    "            for ul in article.find_all(\"ul\")\n",
    "            for li in ul.find_all(\"li\") if li.get_text(strip=True)\n",
    "        ]\n",
    "\n",
    "        full_description = \"\\n\".join(paragraphs + lists)\n",
    "        return full_description.strip() or \"N/A\"\n",
    "\n",
    "    except Exception as e:\n",
    "        print(f\"Erreur lors de l'extraction de la description sur {link} : {e}\")\n",
    "        return \"N/A\"\n"
   ]
  },
  {
   "cell_type": "code",
   "execution_count": 68,
   "id": "3e4a41c7",
   "metadata": {},
   "outputs": [],
   "source": [
    "def extract_job_data(card):\n",
    "    date_tag = card.find(\"span\", class_=\"time\")\n",
    "    date_posted = date_tag.get_text(strip=True) if date_tag else \"N/A\"\n",
    "    if \"30+ days ago\" in date_posted:\n",
    "        return None\n",
    "\n",
    "    title = card.find(\"p\", class_=\"designation-title\")\n",
    "    company = card.find(\"a\", class_=\"info-org\")\n",
    "    location_tag = card.select_one(\"li.info-loc\")\n",
    "    experience_tag = card.find(\"li\", class_=\"info-exp\")\n",
    "    description_tag = card.find(\"p\", class_=\"description\")\n",
    "\n",
    "    return {\n",
    "        \"Title\": title.get_text(strip=True) if title else \"N/A\",\n",
    "        \"Company\": company.get_text(strip=True) if company else \"N/A\",\n",
    "        \"Location\": location_tag.find_all(\"span\")[-1].get_text(strip=True) if location_tag else \"N/A\",\n",
    "        \"Experience\": experience_tag.find(\"span\").get_text(strip=True) if experience_tag else \"N/A\",\n",
    "        \"Short Description\": description_tag.get_text(strip=True) if description_tag else \"N/A\",\n",
    "        \"Date Posted\": date_posted\n",
    "    }\n"
   ]
  },
  {
   "cell_type": "code",
   "execution_count": 69,
   "id": "f8bbd8c9",
   "metadata": {},
   "outputs": [],
   "source": [
    "def scrape_all_pages(base_url):\n",
    "    all_jobs = []\n",
    "    current_page = 1\n",
    "    base_pagination_url = \"https://www.naukrigulf.com/jobs-in-oman\"\n",
    "    query_params = \"?industryType=25&xz=1_2_5\"\n",
    "    visited_urls = set()\n",
    "\n",
    "    while True:\n",
    "        current_url = f\"{base_pagination_url}{query_params}\" if current_page == 1 \\\n",
    "            else f\"{base_pagination_url}-{current_page}{query_params}\"\n",
    "\n",
    "        if current_url in visited_urls:\n",
    "            print(\"URL déjà visitée - éviter la boucle.\")\n",
    "            break\n",
    "        visited_urls.add(current_url)\n",
    "\n",
    "        print(f\"Scraping page {current_page}: {current_url}\")\n",
    "        driver.get(current_url)\n",
    "\n",
    "        try:\n",
    "            WebDriverWait(driver, 10).until(\n",
    "                EC.presence_of_all_elements_located((By.CSS_SELECTOR, \"div.ng-box.srp-tuple\"))\n",
    "            )\n",
    "        except:\n",
    "            print(\"Timeout ou fin des offres.\")\n",
    "            break\n",
    "\n",
    "        soup = BeautifulSoup(driver.page_source, \"html.parser\")\n",
    "        job_cards = soup.find_all(\"div\", class_=\"ng-box srp-tuple\")\n",
    "        if not job_cards:\n",
    "            print(\"Aucune offre trouvée sur cette page. Fin du scraping.\")\n",
    "            break\n",
    "\n",
    "        for card in job_cards:\n",
    "            job_data = extract_job_data(card)\n",
    "            if not job_data:\n",
    "                continue\n",
    "\n",
    "            link_tag = card.find(\"a\", class_=\"info-position\")\n",
    "            job_link = link_tag[\"href\"] if link_tag and link_tag.has_attr(\"href\") else \"N/A\"\n",
    "            if job_link != \"N/A\" and not job_link.startswith(\"http\"):\n",
    "                job_link = \"https://www.naukrigulf.com\" + job_link\n",
    "\n",
    "            job_data[\"Link\"] = job_link\n",
    "            job_data[\"Description\"] = get_job_description(job_link) if job_link != \"N/A\" else \"N/A\"\n",
    "            all_jobs.append(job_data)\n",
    "            sleep(1)\n",
    "\n",
    "        current_page += 1\n",
    "        sleep(2)\n",
    "\n",
    "    return all_jobs\n"
   ]
  },
  {
   "cell_type": "code",
   "execution_count": 70,
   "id": "2ed65760",
   "metadata": {},
   "outputs": [
    {
     "name": "stdout",
     "output_type": "stream",
     "text": [
      "Scraping page 1: https://www.naukrigulf.com/jobs-in-oman?industryType=25&xz=1_2_5\n",
      "Scraping page 2: https://www.naukrigulf.com/jobs-in-oman-2?industryType=25&xz=1_2_5\n",
      "Scraping page 3: https://www.naukrigulf.com/jobs-in-oman-3?industryType=25&xz=1_2_5\n",
      "Scraping page 4: https://www.naukrigulf.com/jobs-in-oman-4?industryType=25&xz=1_2_5\n",
      "Scraping page 5: https://www.naukrigulf.com/jobs-in-oman-5?industryType=25&xz=1_2_5\n",
      "Scraping page 6: https://www.naukrigulf.com/jobs-in-oman-6?industryType=25&xz=1_2_5\n",
      "Scraping page 7: https://www.naukrigulf.com/jobs-in-oman-7?industryType=25&xz=1_2_5\n",
      "Scraping page 8: https://www.naukrigulf.com/jobs-in-oman-8?industryType=25&xz=1_2_5\n",
      "Timeout ou fin des offres.\n",
      "{'Title': 'PRO Admin OR HR Admin', 'Company': 'wipro', 'Location': 'Muscat - Oman', 'Date Posted': '2 Jun', 'Description': 'Job Description\\nRoles & Responsibilities\\nKey Responsibilities and Skills:\\nExample Job Responsibilities:\\n- Administrative Support:Managing      schedul...', 'Link': 'https://www.naukrigulf.com/hr-administrator-jobs-in-muscat-oman-in-wipro-ltd-5-to-10-years-m-cd-52070-jid-020625000073'}\n",
      "{'Title': 'Applications Unlimited Sales Representative', 'Company': 'Oracle', 'Location': 'Oman - Oman', 'Date Posted': '12 Jun', 'Description': 'Job Description\\nRoles & Responsibilities\\nWhat you ll do\\nOracle EMEA License Applications team is hiring dynamic and energetic individuals to help cust...', 'Link': 'https://www.naukrigulf.com/applications-unlimited-sales-representative-jobs-in-oman-in-oracle-2-to-5-years-n-cd-10002838-jid-120625500930'}\n",
      "{'Title': 'SaaS Account Executive', 'Company': 'Oracle', 'Location': 'Oman - Oman', 'Date Posted': '10 Jun', 'Description': 'Job Description\\nRoles & Responsibilities\\nWhat you ll do\\nOur dedicated sales executives are the crucial link between Oracle Cloud Applications and the ...', 'Link': 'https://www.naukrigulf.com/saas-account-executive-jobs-in-oman-in-oracle-2-to-3-years-n-cd-10002838-jid-100625500812'}\n"
     ]
    }
   ],
   "source": [
    "url = \"https://www.naukrigulf.com/jobs-in-oman?industryType=25&locale=en&xz=1_2_5\"\n",
    "jobs = scrape_all_pages(url)\n",
    "\n",
    "for job in jobs[:3]:\n",
    "    print({\n",
    "        \"Title\": job[\"Title\"],\n",
    "        \"Company\": job[\"Company\"],\n",
    "        \"Location\": job[\"Location\"],\n",
    "        \"Date Posted\": job[\"Date Posted\"],\n",
    "        \"Description\": job[\"Description\"][:150] + \"...\",\n",
    "        \"Link\": job[\"Link\"],\n",
    "    })\n"
   ]
  },
  {
   "cell_type": "code",
   "execution_count": null,
   "id": "2e264508",
   "metadata": {},
   "outputs": [
    {
     "name": "stdout",
     "output_type": "stream",
     "text": [
      "Les données ont été exportées vers jobs_naukrigulf.csv\n"
     ]
    }
   ],
   "source": [
    "csv_file = \"jobs_naukrigulf.csv\"\n",
    "keys = [\"Title\", \"Company\", \"Location\", \"Date Posted\", \"Description\", \"Link\"]\n",
    "\n",
    "with open(csv_file, mode='w', encoding='utf-8', newline='') as f:\n",
    "    writer = csv.DictWriter(f, fieldnames=keys)\n",
    "    writer.writeheader()\n",
    "\n",
    "    for job in jobs:\n",
    "        filtered_job = {key: job.get(key, \"N/A\") for key in keys}\n",
    "        writer.writerow(filtered_job)\n",
    "\n"
   ]
  },
  {
   "cell_type": "code",
   "execution_count": 72,
   "id": "5bde47ca",
   "metadata": {},
   "outputs": [],
   "source": [
    "driver.quit()"
   ]
  }
 ],
 "metadata": {
  "kernelspec": {
   "display_name": "gpu_env",
   "language": "python",
   "name": "python3"
  },
  "language_info": {
   "codemirror_mode": {
    "name": "ipython",
    "version": 3
   },
   "file_extension": ".py",
   "mimetype": "text/x-python",
   "name": "python",
   "nbconvert_exporter": "python",
   "pygments_lexer": "ipython3",
   "version": "3.8.20"
  }
 },
 "nbformat": 4,
 "nbformat_minor": 5
}
