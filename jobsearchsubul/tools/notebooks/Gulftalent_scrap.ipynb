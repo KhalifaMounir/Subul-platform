{
 "cells": [
  {
   "cell_type": "code",
   "execution_count": 3,
   "id": "1a9682fa",
   "metadata": {},
   "outputs": [],
   "source": [
    "import requests\n",
    "from bs4 import BeautifulSoup\n",
    "from time import sleep\n",
    "import csv"
   ]
  },
  {
   "cell_type": "code",
   "execution_count": 4,
   "id": "352df28e",
   "metadata": {},
   "outputs": [],
   "source": [
    "url = \"https://www.gulftalent.com/oman/jobs\""
   ]
  },
  {
   "cell_type": "code",
   "execution_count": 5,
   "id": "04e30d38",
   "metadata": {},
   "outputs": [],
   "source": [
    "HEADERS = {\n",
    "    \"User-Agent\": \"Mozilla/5.0 (Windows NT 10.0; Win64; x64) AppleWebKit/537.36 (KHTML, like Gecko) Chrome/114.0 Safari/537.36\"\n",
    "}"
   ]
  },
  {
   "cell_type": "code",
   "execution_count": 6,
   "id": "1841b489",
   "metadata": {},
   "outputs": [],
   "source": [
    "def get_job_description(link):\n",
    "    try:\n",
    "        response = requests.get(link, headers=HEADERS)\n",
    "        response.raise_for_status()\n",
    "        soup = BeautifulSoup(response.text, 'html.parser')\n",
    "\n",
    "        desc_container = soup.find(\"div\", class_=\"panel-body content-visibility-auto job-description\")\n",
    "        if desc_container:\n",
    "            paragraphs = desc_container.find_all(\"p\")\n",
    "            full_description = \"\\n\".join(\n",
    "                [p.get_text(strip=True) for p in paragraphs if p.get_text(strip=True)]\n",
    "            )\n",
    "            return full_description\n",
    "        else:\n",
    "            return \"N/A\"\n",
    "    except Exception as e:\n",
    "        print(f\"Erreur lors de l'extraction de la description sur {link} : {e}\")\n",
    "        return \"N/A\"\n"
   ]
  },
  {
   "cell_type": "code",
   "execution_count": 7,
   "id": "c4e23daa",
   "metadata": {},
   "outputs": [],
   "source": [
    "def get_jobs_links(soup):\n",
    "    job_links = []\n",
    "    for row in soup.find_all(\"tr\", class_=\"content-visibility-auto\"):\n",
    "        link_tag = row.find(\"a\", class_=\"ga-job-impression\")\n",
    "        if link_tag and link_tag.has_attr('href'):\n",
    "            job_links.append(\"https://www.gulftalent.com\" + link_tag['href'])\n",
    "    return job_links\n"
   ]
  },
  {
   "cell_type": "code",
   "execution_count": 8,
   "id": "471f26db",
   "metadata": {},
   "outputs": [],
   "source": [
    "def extract_job_data(row):\n",
    "    title_tag = row.find(\"a\", class_=\"ga-job-impression\")\n",
    "    company_tag = row.find(\"a\", class_=\"text-base text-muted text-secondary-hover\")\n",
    "    location_tag = row.find(\"a\", class_=\"text-base text-regular text-secondary-hover\")\n",
    "    date_tag = row.find(\"td\", class_=\"col-sm-4\")\n",
    "\n",
    "    return {\n",
    "        \"Title\": title_tag.get_text(strip=True) if title_tag else \"N/A\",\n",
    "        \"Company\": company_tag.get_text(strip=True) if company_tag else \"N/A\",\n",
    "        \"Location\": location_tag.get_text(strip=True) if location_tag else \"N/A\",\n",
    "        \"Date Posted\": date_tag.get_text(strip=True) if date_tag else \"N/A\"\n",
    "    }\n",
    "\n"
   ]
  },
  {
   "cell_type": "code",
   "execution_count": 9,
   "id": "fcbf40bd",
   "metadata": {},
   "outputs": [],
   "source": [
    "def scrape_all_pages(base_url):\n",
    "    all_jobs = []\n",
    "    current_page = 1\n",
    "    visited_urls = set()\n",
    "\n",
    "    while True:\n",
    "        print(f\"Scraping Page {current_page}: {base_url}\")\n",
    "        response = requests.get(base_url, headers=HEADERS)\n",
    "        response.raise_for_status()\n",
    "        soup = BeautifulSoup(response.text, \"html.parser\")\n",
    "\n",
    "        job_rows = soup.find_all(\"tr\", class_=\"content-visibility-auto\")\n",
    "        if not job_rows:\n",
    "            print(\"Aucune offre trouvée. Fin du scraping.\")\n",
    "            break\n",
    "\n",
    "        for row in job_rows:\n",
    "            job_data = extract_job_data(row)\n",
    "            job_link_tag = row.find(\"a\", class_=\"ga-job-impression\")\n",
    "            job_data[\"Link\"] = (\n",
    "                \"https://www.gulftalent.com\" + job_link_tag['href']\n",
    "                if job_link_tag and job_link_tag.has_attr('href') else \"N/A\"\n",
    "            )\n",
    "            job_data[\"Description\"] = (\n",
    "                get_job_description(job_data[\"Link\"]) if job_data[\"Link\"] != \"N/A\" else \"N/A\"\n",
    "            )\n",
    "            all_jobs.append(job_data)\n",
    "            sleep(1)\n",
    "\n",
    "        pagination = soup.find(\"ul\", class_=\"pagination\")\n",
    "        next_link = pagination.find(\"li\", class_=\"jumper\") and pagination.find(\"a\", string=\"Next\")\n",
    "        if next_link and next_link.has_attr('href'):\n",
    "            next_page_url = \"https://www.gulftalent.com\" + next_link['href']\n",
    "            if next_page_url in visited_urls:\n",
    "                print(\"Page déjà visitée. Arrêt du scraping.\")\n",
    "                break\n",
    "            visited_urls.add(next_page_url)\n",
    "            base_url = next_page_url\n",
    "            current_page += 1\n",
    "        else:\n",
    "            print(\"Fin de la pagination.\")\n",
    "            break\n",
    "\n",
    "    return all_jobs\n"
   ]
  },
  {
   "cell_type": "code",
   "execution_count": 10,
   "id": "4d060933",
   "metadata": {},
   "outputs": [
    {
     "name": "stdout",
     "output_type": "stream",
     "text": [
      "Scraping Page 1: https://www.gulftalent.com/oman/jobs\n",
      "Scraping Page 2: https://www.gulftalent.com/oman/jobs/2\n",
      "Scraping Page 3: https://www.gulftalent.com/oman/jobs/3\n",
      "Fin de la pagination.\n",
      "{'Title': 'Digital Product - UI/UX Specialist', 'Company': 'Renna Mobile', 'Location': 'Muscat', 'Date Posted': '4 Jun', 'Description': 'We are seeking a talented Digital Product - UI/UX Specialist to join our dynamic telecom team in Muscat, Oman. In this role, you will craft intuitive and engaging user interfaces, ensuring an exceptional digital experience for our customers. You will collaborate closely with product managers, developers, and stakeholders to design innovative solutions that drive customer satisfaction and business growth.Responsibilities:- Design and develop user interface mockups and prototypes that clearly illustrate how sites function and look.- Conduct user research and evaluate user feedback to improve product usability.- Collaborate with cross-functional teams including product managers, developers, and marketing to define and implement innovative solutions for product direction and visuals.- Create wireframes, storyboards, user flows, and site maps to effectively communicate interaction and design ideas.- Ensure all designs are user-centered, consistent with brand guidelines, and optimized for various devices and platforms.- Stay updated on the latest UI/UX trends, techniques, and technologies relevant to the telecom industry.- Participate in user testing and incorporate feedback to enhance the overall digital experience.\\n- Proven experience as a UI/UX specialist or similar role with a strong portfolio showcasing digital product designs.- Proficiency with design and prototyping tools such as Sketch, Adobe XD, Figma, or similar.- Experience in implementing GA and GTM.- Strong understanding of user-centered design principles and best practices.- Experience in conducting user research and usability testing.- Excellent communication and teamwork skills.- Ability to work effectively in a fast-paced and collaborative telecom environment.- Knowledge of frontend development (HTML, CSS, JavaScript) is a plus.- Fluency in English; knowledge of Arabic is advantageous.\\nOur Vision is to provide you the most Value for Money for your Telecommunication spends.Renna Mobile is the first Mobile Re-seller (MVNO) to launch in the Sultanate of Oman (actually in the entire GCC region). We started our journey in May 2009 and now we are serving over half a million customers in Oman and it is our goal to make better life for as many people as we can. And today, we stand as the No. 1 MVNO in the Sultanate.With the aim to become the most cost-efficient mobile service provider in Oman; Renna Mobile provides fantastic prices and brilliant customer service coupled with superb network coverage, offered through Omantel’s superior telecom network all across Oman, that allows one to enjoy the seamless services anytime and anywhere.We offer complete Prepaid / Pay-as-you-use Telecom solution to our customers. We know that needs of customers constantly change – because the market is alive, dynamic and constantly shifting. At Renna Mobile, we promise to adapt and transform to meet your growing and changing needs always\\nOur Vision is to provide you the most Value for Money for your Telecommunication spends.\\nRenna Mobile is the first Mobile Re-seller (MVNO) to launch in the Sultanate of Oman (actually in the entire GCC region). We started our journey in May 2009 and now we are serving over half a million customers in Oman and it is our goal to make better life for as many people as we can. And today, we stand as the No. 1 MVNO in the Sultanate.\\nWith the aim to become the most cost-efficient mobile service provider in Oman; Renna Mobile provides fantastic prices and brilliant customer service coupled with superb network coverage, offered through Omantel’s superior telecom network all across Oman, that allows one to enjoy the seamless services anytime and anywhere.\\nWe offer complete Prepaid / Pay-as-you-use Telecom solution to our customers. We know that needs of customers constantly change – because the market is alive, dynamic and constantly shifting. At Renna Mobile, we promise to adapt and transform to meet your growing and changing needs always', 'Link': 'https://www.gulftalent.com/oman/jobs/digital-product-ui-ux-specialist-464248'}\n"
     ]
    }
   ],
   "source": [
    "url = \"https://www.gulftalent.com/oman/jobs\"\n",
    "jobs = scrape_all_pages(url)\n",
    "\n",
    "\n",
    "for job in jobs[:1]:\n",
    "    formatted_job = {\n",
    "        \"Title\": job[\"Title\"],\n",
    "        \"Company\": job[\"Company\"],\n",
    "        \"Location\": job[\"Location\"],\n",
    "        \"Date Posted\": job[\"Date Posted\"],\n",
    "        \"Description\": job[\"Description\"],\n",
    "        \"Link\": job[\"Link\"],\n",
    "    }\n",
    "    print(formatted_job)\n"
   ]
  },
  {
   "cell_type": "code",
   "execution_count": 13,
   "id": "86f60363",
   "metadata": {},
   "outputs": [],
   "source": [
    "csv_file = \"jobs_expat.csv\"\n",
    "keys = [\"Title\", \"Company\", \"Location\", \"Date Posted\", \"Description\", \"Link\"]\n",
    "\n",
    "with open(csv_file, mode='w', encoding='utf-8', newline='') as f:\n",
    "    writer = csv.DictWriter(f, fieldnames=keys)\n",
    "    writer.writeheader()\n",
    "    for job in jobs:\n",
    "        filtered_job = {key: job.get(key, \"N/A\") for key in keys}\n",
    "        writer.writerow(filtered_job)\n",
    "\n"
   ]
  }
 ],
 "metadata": {
  "kernelspec": {
   "display_name": "gpu_env",
   "language": "python",
   "name": "python3"
  },
  "language_info": {
   "codemirror_mode": {
    "name": "ipython",
    "version": 3
   },
   "file_extension": ".py",
   "mimetype": "text/x-python",
   "name": "python",
   "nbconvert_exporter": "python",
   "pygments_lexer": "ipython3",
   "version": "3.8.20"
  }
 },
 "nbformat": 4,
 "nbformat_minor": 5
}
